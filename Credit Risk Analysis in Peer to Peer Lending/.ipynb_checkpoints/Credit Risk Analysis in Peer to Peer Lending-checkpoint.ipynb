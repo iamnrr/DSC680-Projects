{
 "cells": [
  {
   "cell_type": "markdown",
   "metadata": {},
   "source": [
    "# Credit Risk Analysis in Peer to Peer Lending"
   ]
  },
  {
   "cell_type": "code",
   "execution_count": null,
   "metadata": {},
   "outputs": [],
   "source": []
  },
  {
   "cell_type": "code",
   "execution_count": null,
   "metadata": {},
   "outputs": [],
   "source": []
  },
  {
   "cell_type": "code",
   "execution_count": 1,
   "metadata": {},
   "outputs": [],
   "source": [
    "# Importing required modules\n",
    "\n",
    "import pandas as pd\n",
    "import numpy as np\n",
    "\n",
    "from sklearn.ensemble import ExtraTreesClassifier\n",
    "from sklearn.ensemble import RandomForestClassifier\n",
    "from sklearn.preprocessing import StandardScaler\n",
    "from sklearn.model_selection import train_test_split\n",
    "\n",
    "# for measuring accuracy, precision, recall, f1 and auc scores\n",
    "from sklearn.metrics import accuracy_score,precision_score, recall_score, f1_score, roc_auc_score\n",
    "from sklearn.model_selection import cross_val_score\n",
    "from sklearn.metrics import classification_report\n",
    "from sklearn.metrics import roc_curve, auc\n",
    "from sklearn.metrics import confusion_matrix\n",
    "\n",
    "\n",
    "from sklearn.model_selection import GridSearchCV\n",
    "from sklearn.model_selection import RandomizedSearchCV\n",
    "\n",
    "# for model deployment\n",
    "import joblib\n",
    "\n",
    "import matplotlib.pyplot as plt\n",
    "import seaborn as sns\n",
    "get_ipython().run_line_magic('matplotlib', 'inline')"
   ]
  },
  {
   "cell_type": "code",
   "execution_count": 3,
   "metadata": {},
   "outputs": [
    {
     "name": "stdout",
     "output_type": "stream",
     "text": [
      "C:\\Users\\nrrvlkp\\Documents\\M\\680\\DSC680\\DSC680-Projects\\Credit Risk Analysis in Peer to Peer Lending\n",
      "C:\\Users\\nrrvlkp\\Documents\\M\\680\\DSC680\\DSC680-Projects\\Credit Risk Analysis in Peer to Peer Lending\\Data\\accepted_2007_to_2016.csv.gz C:\\Users\\nrrvlkp\\Documents\\M\\680\\DSC680\\DSC680-Projects\\Credit Risk Analysis in Peer to Peer Lending\\Data\\rejected_2007_to_2016.csv.gz\n"
     ]
    }
   ],
   "source": [
    "# creating data file directory\n",
    "import os\n",
    "cwd = os.getcwd()\n",
    "print(cwd)\n",
    "\n",
    "datadir = os.path.join(cwd, 'Data')\n",
    "acc_file = os.path.join(datadir, 'accepted_2007_to_2016.csv.gz')\n",
    "rej_file = os.path.join(datadir, 'rejected_2007_to_2016.csv.gz')\n",
    "print(acc_file, rej_file)"
   ]
  },
  {
   "cell_type": "code",
   "execution_count": 4,
   "metadata": {},
   "outputs": [
    {
     "name": "stderr",
     "output_type": "stream",
     "text": [
      "C:\\Installed\\Anaconda3\\lib\\site-packages\\IPython\\core\\interactiveshell.py:3049: DtypeWarning: Columns (18,46,54) have mixed types. Specify dtype option on import or set low_memory=False.\n",
      "  interactivity=interactivity, compiler=compiler, result=result)\n"
     ]
    }
   ],
   "source": [
    "accept_df = pd.read_csv(acc_file, compression='gzip')\n",
    "reject_df = pd.read_csv(rej_file, compression='gzip')"
   ]
  },
  {
   "cell_type": "code",
   "execution_count": 5,
   "metadata": {},
   "outputs": [
    {
     "name": "stdout",
     "output_type": "stream",
     "text": [
      "<class 'pandas.core.frame.DataFrame'>\n",
      "RangeIndex: 1321847 entries, 0 to 1321846\n",
      "Data columns (total 110 columns):\n",
      "id                                1321847 non-null int64\n",
      "member_id                         1321847 non-null float64\n",
      "loan_amnt                         1321847 non-null float64\n",
      "funded_amnt                       1321847 non-null float64\n",
      "funded_amnt_inv                   1321847 non-null float64\n",
      "term                              1321847 non-null object\n",
      "int_rate                          1321847 non-null float64\n",
      "installment                       1321847 non-null float64\n",
      "grade                             1321847 non-null object\n",
      "sub_grade                         1321847 non-null object\n",
      "emp_title                         1241881 non-null object\n",
      "emp_length                        1248798 non-null object\n",
      "home_ownership                    1321847 non-null object\n",
      "annual_inc                        1321843 non-null float64\n",
      "verification_status               1321847 non-null object\n",
      "issue_d                           1321847 non-null object\n",
      "loan_status                       1321847 non-null object\n",
      "pymnt_plan                        1321847 non-null object\n",
      "desc                              126067 non-null object\n",
      "purpose                           1321847 non-null object\n",
      "title                             1298522 non-null object\n",
      "zip_code                          1321847 non-null object\n",
      "addr_state                        1321847 non-null object\n",
      "dti                               1321847 non-null float64\n",
      "delinq_2yrs                       1321818 non-null float64\n",
      "earliest_cr_line                  1321818 non-null object\n",
      "inq_last_6mths                    1321817 non-null float64\n",
      "mths_since_last_delinq            662677 non-null float64\n",
      "mths_since_last_record            219977 non-null float64\n",
      "open_acc                          1321818 non-null float64\n",
      "pub_rec                           1321818 non-null float64\n",
      "revol_bal                         1321847 non-null float64\n",
      "revol_util                        1321081 non-null float64\n",
      "total_acc                         1321818 non-null float64\n",
      "initial_list_status               1321847 non-null object\n",
      "out_prncp                         1321847 non-null float64\n",
      "out_prncp_inv                     1321847 non-null float64\n",
      "total_pymnt                       1321847 non-null float64\n",
      "total_pymnt_inv                   1321847 non-null float64\n",
      "total_rec_prncp                   1321847 non-null float64\n",
      "total_rec_int                     1321847 non-null float64\n",
      "total_rec_late_fee                1321847 non-null float64\n",
      "recoveries                        1321847 non-null float64\n",
      "collection_recovery_fee           1321847 non-null float64\n",
      "last_pymnt_d                      1314178 non-null object\n",
      "last_pymnt_amnt                   1321847 non-null float64\n",
      "next_pymnt_d                      829089 non-null object\n",
      "last_credit_pull_d                1321770 non-null object\n",
      "collections_12_mths_ex_med        1321702 non-null float64\n",
      "mths_since_last_major_derog       347331 non-null float64\n",
      "policy_code                       1321847 non-null float64\n",
      "application_type                  1321847 non-null object\n",
      "annual_inc_joint                  9300 non-null float64\n",
      "dti_joint                         9296 non-null float64\n",
      "verification_status_joint         9300 non-null object\n",
      "acc_now_delinq                    1321818 non-null float64\n",
      "tot_coll_amt                      1251571 non-null float64\n",
      "tot_cur_bal                       1251571 non-null float64\n",
      "open_acc_6m                       455717 non-null float64\n",
      "open_il_6m                        455718 non-null float64\n",
      "open_il_12m                       455718 non-null float64\n",
      "open_il_24m                       455718 non-null float64\n",
      "mths_since_rcnt_il                443459 non-null float64\n",
      "total_bal_il                      455718 non-null float64\n",
      "il_util                           395615 non-null float64\n",
      "open_rv_12m                       455718 non-null float64\n",
      "open_rv_24m                       455718 non-null float64\n",
      "max_bal_bc                        455718 non-null float64\n",
      "all_util                          455695 non-null float64\n",
      "total_rev_hi_lim                  1251571 non-null float64\n",
      "inq_fi                            455718 non-null float64\n",
      "total_cu_tl                       455717 non-null float64\n",
      "inq_last_12m                      455717 non-null float64\n",
      "acc_open_past_24mths              1271817 non-null float64\n",
      "avg_cur_bal                       1251559 non-null float64\n",
      "bc_open_to_buy                    1259244 non-null float64\n",
      "bc_util                           1258527 non-null float64\n",
      "chargeoff_within_12_mths          1321702 non-null float64\n",
      "delinq_amnt                       1321818 non-null float64\n",
      "mo_sin_old_il_acct                1214312 non-null float64\n",
      "mo_sin_old_rev_tl_op              1251570 non-null float64\n",
      "mo_sin_rcnt_rev_tl_op             1251570 non-null float64\n",
      "mo_sin_rcnt_tl                    1251571 non-null float64\n",
      "mort_acc                          1271817 non-null float64\n",
      "mths_since_recent_bc              1260066 non-null float64\n",
      "mths_since_recent_bc_dlq          318765 non-null float64\n",
      "mths_since_recent_inq             1139670 non-null float64\n",
      "mths_since_recent_revol_delinq    448529 non-null float64\n",
      "num_accts_ever_120_pd             1251571 non-null float64\n",
      "num_actv_bc_tl                    1251571 non-null float64\n",
      "num_actv_rev_tl                   1251571 non-null float64\n",
      "num_bc_sats                       1263257 non-null float64\n",
      "num_bc_tl                         1251571 non-null float64\n",
      "num_il_tl                         1251571 non-null float64\n",
      "num_op_rev_tl                     1251571 non-null float64\n",
      "num_rev_accts                     1251570 non-null float64\n",
      "num_rev_tl_bal_gt_0               1251571 non-null float64\n",
      "num_sats                          1263257 non-null float64\n",
      "num_tl_120dpd_2m                  1202848 non-null float64\n",
      "num_tl_30dpd                      1251571 non-null float64\n",
      "num_tl_90g_dpd_24m                1251571 non-null float64\n",
      "num_tl_op_past_12m                1251571 non-null float64\n",
      "pct_tl_nvr_dlq                    1251418 non-null float64\n",
      "percent_bc_gt_75                  1258823 non-null float64\n",
      "pub_rec_bankruptcies              1320482 non-null float64\n",
      "tax_liens                         1321742 non-null float64\n",
      "tot_hi_cred_lim                   1251571 non-null float64\n",
      "total_bal_ex_mort                 1271817 non-null float64\n",
      "total_bc_limit                    1271817 non-null float64\n",
      "total_il_high_credit_limit        1251571 non-null float64\n",
      "dtypes: float64(87), int64(1), object(22)\n",
      "memory usage: 1.1+ GB\n",
      "None\n"
     ]
    }
   ],
   "source": [
    "# too many columns to print the info summary out, so we need to force it\n",
    "print(accept_df.info(verbose=True, null_counts=True))"
   ]
  },
  {
   "cell_type": "code",
   "execution_count": 6,
   "metadata": {},
   "outputs": [
    {
     "data": {
      "text/plain": [
       "Index(['id', 'member_id', 'loan_amnt', 'funded_amnt', 'funded_amnt_inv',\n",
       "       'term', 'int_rate', 'installment', 'grade', 'sub_grade',\n",
       "       ...\n",
       "       'num_tl_90g_dpd_24m', 'num_tl_op_past_12m', 'pct_tl_nvr_dlq',\n",
       "       'percent_bc_gt_75', 'pub_rec_bankruptcies', 'tax_liens',\n",
       "       'tot_hi_cred_lim', 'total_bal_ex_mort', 'total_bc_limit',\n",
       "       'total_il_high_credit_limit'],\n",
       "      dtype='object', length=110)"
      ]
     },
     "execution_count": 6,
     "metadata": {},
     "output_type": "execute_result"
    }
   ],
   "source": [
    "accept_df.columns"
   ]
  },
  {
   "cell_type": "code",
   "execution_count": 7,
   "metadata": {},
   "outputs": [
    {
     "data": {
      "text/plain": [
       "Index(['Amount Requested', 'Application Date', 'Loan Title', 'Risk_Score',\n",
       "       'Debt-To-Income Ratio', 'Zip Code', 'State', 'Employment Length',\n",
       "       'Policy Code'],\n",
       "      dtype='object')"
      ]
     },
     "execution_count": 7,
     "metadata": {},
     "output_type": "execute_result"
    }
   ],
   "source": [
    "reject_df.columns"
   ]
  },
  {
   "cell_type": "code",
   "execution_count": 8,
   "metadata": {},
   "outputs": [
    {
     "data": {
      "text/plain": [
       "(1321847, 110)"
      ]
     },
     "execution_count": 8,
     "metadata": {},
     "output_type": "execute_result"
    }
   ],
   "source": [
    "accept_df.shape"
   ]
  },
  {
   "cell_type": "code",
   "execution_count": 9,
   "metadata": {},
   "outputs": [
    {
     "data": {
      "text/plain": [
       "(11079386, 9)"
      ]
     },
     "execution_count": 9,
     "metadata": {},
     "output_type": "execute_result"
    }
   ],
   "source": [
    "reject_df.shape"
   ]
  },
  {
   "cell_type": "code",
   "execution_count": 10,
   "metadata": {},
   "outputs": [
    {
     "data": {
      "text/plain": [
       "(1000, 110)"
      ]
     },
     "execution_count": 10,
     "metadata": {},
     "output_type": "execute_result"
    }
   ],
   "source": [
    "accept_df2 = accept_df[0:1000]\n",
    "accept_df2.shape"
   ]
  },
  {
   "cell_type": "code",
   "execution_count": 11,
   "metadata": {},
   "outputs": [],
   "source": [
    "accept_df2.to_csv(os.path.join(datadir, 'accepted_sample.csv'))"
   ]
  },
  {
   "cell_type": "code",
   "execution_count": 12,
   "metadata": {},
   "outputs": [],
   "source": [
    "accept_df.to_csv(os.path.join(datadir, 'accepted_fulldata.csv'))"
   ]
  },
  {
   "cell_type": "code",
   "execution_count": 13,
   "metadata": {},
   "outputs": [],
   "source": [
    "reject_df.to_csv(os.path.join(datadir, 'rejected_fulldata.csv'))"
   ]
  },
  {
   "cell_type": "markdown",
   "metadata": {},
   "source": [
    "## Exploratory Data Analysis"
   ]
  },
  {
   "cell_type": "code",
   "execution_count": 16,
   "metadata": {},
   "outputs": [
    {
     "data": {
      "text/plain": [
       "verification_status\n",
       "Not Verified       400587\n",
       "Source Verified    503870\n",
       "Verified           417390\n",
       "Name: id, dtype: int64"
      ]
     },
     "execution_count": 16,
     "metadata": {},
     "output_type": "execute_result"
    }
   ],
   "source": [
    "# Distinct values of loan verification status and counts\n",
    "accept_df.groupby('verification_status')['id'].count()"
   ]
  },
  {
   "cell_type": "code",
   "execution_count": 17,
   "metadata": {},
   "outputs": [
    {
     "data": {
      "text/plain": [
       "term\n",
       " 36 months    944664\n",
       " 60 months    377183\n",
       "Name: id, dtype: int64"
      ]
     },
     "execution_count": 17,
     "metadata": {},
     "output_type": "execute_result"
    }
   ],
   "source": [
    "# Distinct values of term and counts\n",
    "accept_df.groupby('term')['id'].count()"
   ]
  },
  {
   "cell_type": "code",
   "execution_count": 18,
   "metadata": {},
   "outputs": [
    {
     "data": {
      "text/plain": [
       "grade\n",
       "A    219054\n",
       "B    389065\n",
       "C    378059\n",
       "D    198732\n",
       "E     96514\n",
       "F     32383\n",
       "G      8040\n",
       "Name: id, dtype: int64"
      ]
     },
     "execution_count": 18,
     "metadata": {},
     "output_type": "execute_result"
    }
   ],
   "source": [
    "# Distinct values of grade and counts\n",
    "accept_df.groupby('grade')['id'].count()"
   ]
  },
  {
   "cell_type": "code",
   "execution_count": 19,
   "metadata": {},
   "outputs": [
    {
     "data": {
      "text/plain": [
       "home_ownership\n",
       "ANY            113\n",
       "MORTGAGE    655107\n",
       "NONE            50\n",
       "OTHER          182\n",
       "OWN         140515\n",
       "RENT        525880\n",
       "Name: id, dtype: int64"
      ]
     },
     "execution_count": 19,
     "metadata": {},
     "output_type": "execute_result"
    }
   ],
   "source": [
    "# Distinct values of home_ownership and counts\n",
    "accept_df.groupby('home_ownership')['id'].count()"
   ]
  },
  {
   "cell_type": "code",
   "execution_count": 20,
   "metadata": {},
   "outputs": [
    {
     "data": {
      "text/plain": [
       "loan_status\n",
       "Charged Off                                             96554\n",
       "Current                                                783839\n",
       "Default                                                  1615\n",
       "Does not meet the credit policy. Status:Charged Off       761\n",
       "Does not meet the credit policy. Status:Fully Paid       1988\n",
       "Fully Paid                                             396204\n",
       "In Grace Period                                         10210\n",
       "Issued                                                   6048\n",
       "Late (16-30 days)                                        4555\n",
       "Late (31-120 days)                                      20073\n",
       "Name: id, dtype: int64"
      ]
     },
     "execution_count": 20,
     "metadata": {},
     "output_type": "execute_result"
    }
   ],
   "source": [
    "# Distinct values of loan_status and counts\n",
    "accept_df.groupby('loan_status')['id'].count()"
   ]
  },
  {
   "cell_type": "code",
   "execution_count": 23,
   "metadata": {},
   "outputs": [
    {
     "data": {
      "text/plain": [
       "<matplotlib.axes._subplots.AxesSubplot at 0x1a9620e4f98>"
      ]
     },
     "execution_count": 23,
     "metadata": {},
     "output_type": "execute_result"
    },
    {
     "data": {
      "image/png": "[encoded data removed]",
      "text/plain": [
       "<Figure size 432x288 with 1 Axes>"
      ]
     },
     "metadata": {
      "needs_background": "light"
     },
     "output_type": "display_data"
    }
   ],
   "source": [
    "# Distinct values of loan_status and counts\n",
    "accept_df.loan_status.value_counts().plot(kind = 'bar', alpha = 0.40)"
   ]
  },
  {
   "cell_type": "code",
   "execution_count": 21,
   "metadata": {},
   "outputs": [
    {
     "data": {
      "text/plain": [
       "purpose\n",
       "car                    13677\n",
       "credit_card           297803\n",
       "debt_consolidation    773152\n",
       "educational              423\n",
       "home_improvement       83016\n",
       "house                   5709\n",
       "major_purchase         27683\n",
       "medical                13981\n",
       "moving                  8644\n",
       "other                  71365\n",
       "renewable_energy         879\n",
       "small_business         15168\n",
       "vacation                7998\n",
       "wedding                 2349\n",
       "Name: id, dtype: int64"
      ]
     },
     "execution_count": 21,
     "metadata": {},
     "output_type": "execute_result"
    }
   ],
   "source": [
    "# Distinct values of purpose and counts\n",
    "accept_df.groupby('purpose')['id'].count()"
   ]
  },
  {
   "cell_type": "code",
   "execution_count": 22,
   "metadata": {},
   "outputs": [
    {
     "data": {
      "text/plain": [
       "last_pymnt_d\n",
       "Apr-2008        23\n",
       "Apr-2009        72\n",
       "Apr-2010       145\n",
       "Apr-2011       519\n",
       "Apr-2012       860\n",
       "Apr-2013      1910\n",
       "Apr-2014      4327\n",
       "Apr-2015     11108\n",
       "Apr-2016     17429\n",
       "Aug-2008        31\n",
       "Aug-2009        66\n",
       "Aug-2010       198\n",
       "Aug-2011       479\n",
       "Aug-2012      1134\n",
       "Aug-2013      2515\n",
       "Aug-2014      6308\n",
       "Aug-2015     13018\n",
       "Aug-2016     22259\n",
       "Dec-2007         2\n",
       "Dec-2008        31\n",
       "Dec-2009       116\n",
       "Dec-2010       332\n",
       "Dec-2011       585\n",
       "Dec-2012      1198\n",
       "Dec-2013      3050\n",
       "Dec-2014      7255\n",
       "Dec-2015     15634\n",
       "Dec-2016    114461\n",
       "Feb-2008         8\n",
       "Feb-2009        65\n",
       "             ...  \n",
       "May-2014      4722\n",
       "May-2015     11070\n",
       "May-2016     18192\n",
       "Nov-2008        31\n",
       "Nov-2009        80\n",
       "Nov-2010       258\n",
       "Nov-2011       487\n",
       "Nov-2012      1198\n",
       "Nov-2013      2662\n",
       "Nov-2014      6208\n",
       "Nov-2015     13394\n",
       "Nov-2016     23677\n",
       "Oct-2008        55\n",
       "Oct-2009        85\n",
       "Oct-2010       292\n",
       "Oct-2011       482\n",
       "Oct-2012      1268\n",
       "Oct-2013      2832\n",
       "Oct-2014      7679\n",
       "Oct-2015     15754\n",
       "Oct-2016     23298\n",
       "Sep-2008        40\n",
       "Sep-2009        55\n",
       "Sep-2010       215\n",
       "Sep-2011       491\n",
       "Sep-2012      1125\n",
       "Sep-2013      2510\n",
       "Sep-2014      6316\n",
       "Sep-2015     13746\n",
       "Sep-2016     22420\n",
       "Name: id, Length: 110, dtype: int64"
      ]
     },
     "execution_count": 22,
     "metadata": {},
     "output_type": "execute_result"
    }
   ],
   "source": [
    "# Distinct values of last_pymnt_d and counts\n",
    "accept_df.groupby('last_pymnt_d')['id'].count()"
   ]
  },
  {
   "cell_type": "code",
   "execution_count": null,
   "metadata": {},
   "outputs": [],
   "source": []
  }
 ],
 "metadata": {
  "kernelspec": {
   "display_name": "Python 3",
   "language": "python",
   "name": "python3"
  },
  "language_info": {
   "codemirror_mode": {
    "name": "ipython",
    "version": 3
   },
   "file_extension": ".py",
   "mimetype": "text/x-python",
   "name": "python",
   "nbconvert_exporter": "python",
   "pygments_lexer": "ipython3",
   "version": "3.6.8"
  }
 },
 "nbformat": 4,
 "nbformat_minor": 2
}
